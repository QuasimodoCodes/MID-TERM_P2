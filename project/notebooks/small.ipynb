{
 "cells": [
  {
   "cell_type": "markdown",
   "id": "f0bbdc21",
   "metadata": {},
   "source": [
    "# MOVRP — Small instance notebook\n",
    "\n",
    "Purpose: Prepare and run experiments on a small CVRP instance (e.g., A-n32-k5).\n",
    "\n",
    "Notebook structure (no code in this template):\n",
    "\n",
    "- 1. Overview and objectives\n",
    "- 2. Data description and loading instructions\n",
    "- 3. Representation and feasibility handling\n",
    "- 4. Algorithm parameters (NSGA-II / SPEA2)\n",
    "- 5. Experiment loop (20 runs × 3 parameter sets)\n",
    "- 6. Metrics to compute (total distance, route balance, hypervolume, IGD)\n",
    "- 7. Results summary and plots\n",
    "- 8. Notes & reproducibility (seeds, runtime environment)\n"
   ]
  }
 ],
 "metadata": {
  "language_info": {
   "name": "python"
  }
 },
 "nbformat": 4,
 "nbformat_minor": 5
}
